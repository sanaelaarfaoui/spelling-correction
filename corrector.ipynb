{
  "nbformat": 4,
  "nbformat_minor": 0,
  "metadata": {
    "colab": {
      "name": "corrector.ipynb",
      "provenance": []
    },
    "kernelspec": {
      "name": "python3",
      "display_name": "Python 3"
    }
  },
  "cells": [
    {
      "cell_type": "code",
      "metadata": {
        "id": "5TpJzkhjTLL0"
      },
      "source": [
        "import re\n",
        "from collections import Counter\n",
        "\n",
        "def words(text): return re.findall(r'\\w+', text.lower())\n",
        "\n",
        "WORDS = Counter(words(open('/content/big.txt').read()))\n",
        "\n",
        "def P(word, N=sum(WORDS.values())): \n",
        "    \"Probability of `word`.\"\n",
        "    return WORDS[word] / N\n",
        "\n",
        "def correction(word): \n",
        "    \"Most probable spelling correction for word.\"\n",
        "    return max(candidates(word), key=P)\n",
        "\n",
        "def candidates(word): \n",
        "    \"Generate possible spelling corrections for word.\"\n",
        "    return (known([word]) or known(edits1(word)) or known(edits2(word)) or [word])\n",
        "\n",
        "def known(words): \n",
        "    \"The subset of `words` that appear in the dictionary of WORDS.\"\n",
        "    return set(w for w in words if w in WORDS)\n",
        "\n",
        "def edits1(word):\n",
        "    \"All edits that are one edit away from `word`.\"\n",
        "    letters    = 'abcdefghijklmnopqrstuvwxyz'\n",
        "    splits     = [(word[:i], word[i:])    for i in range(len(word) + 1)]\n",
        "    deletes    = [L + R[1:]               for L, R in splits if R]\n",
        "    transposes = [L + R[1] + R[0] + R[2:] for L, R in splits if len(R)>1]\n",
        "    replaces   = [L + c + R[1:]           for L, R in splits if R for c in letters]\n",
        "    inserts    = [L + c + R               for L, R in splits for c in letters]\n",
        "    return set(deletes + transposes + replaces + inserts)\n",
        "\n",
        "def edits2(word): \n",
        "    \"All edits that are two edits away from `word`.\"\n",
        "    return (e2 for e1 in edits1(word) for e2 in edits1(e1))"
      ],
      "execution_count": null,
      "outputs": []
    },
    {
      "cell_type": "code",
      "metadata": {
        "id": "nHn9Z2KmTsfY",
        "colab": {
          "base_uri": "https://localhost:8080/",
          "height": 35
        },
        "outputId": "aeed2fce-6a79-4519-9dd4-666247813b16"
      },
      "source": [
        "correction('machin')"
      ],
      "execution_count": null,
      "outputs": [
        {
          "output_type": "execute_result",
          "data": {
            "application/vnd.google.colaboratory.intrinsic+json": {
              "type": "string"
            },
            "text/plain": [
              "'machine'"
            ]
          },
          "metadata": {
            "tags": []
          },
          "execution_count": 14
        }
      ]
    },
    {
      "cell_type": "code",
      "metadata": {
        "id": "vvEHcYWhZfke",
        "colab": {
          "base_uri": "https://localhost:8080/",
          "height": 34
        },
        "outputId": "adb1fa66-d4b9-4aa0-ef91-d9886b2b8da9"
      },
      "source": [
        "len(WORDS)\n"
      ],
      "execution_count": null,
      "outputs": [
        {
          "output_type": "execute_result",
          "data": {
            "text/plain": [
              "32198"
            ]
          },
          "metadata": {
            "tags": []
          },
          "execution_count": 3
        }
      ]
    },
    {
      "cell_type": "code",
      "metadata": {
        "id": "1YZdADvcaFZh",
        "colab": {
          "base_uri": "https://localhost:8080/",
          "height": 34
        },
        "outputId": "5e4d916b-1d03-4a16-d8ce-cef3083e8e37"
      },
      "source": [
        "sum(WORDS.values())"
      ],
      "execution_count": null,
      "outputs": [
        {
          "output_type": "execute_result",
          "data": {
            "text/plain": [
              "1115585"
            ]
          },
          "metadata": {
            "tags": []
          },
          "execution_count": 4
        }
      ]
    },
    {
      "cell_type": "code",
      "metadata": {
        "id": "tmZgpVOjZuHj",
        "colab": {
          "base_uri": "https://localhost:8080/",
          "height": 185
        },
        "outputId": "36c04152-1566-4162-f008-2578d1e8bcc9"
      },
      "source": [
        "WORDS.most_common(10)"
      ],
      "execution_count": null,
      "outputs": [
        {
          "output_type": "execute_result",
          "data": {
            "text/plain": [
              "[('the', 79809),\n",
              " ('of', 40024),\n",
              " ('and', 38312),\n",
              " ('to', 28765),\n",
              " ('in', 22023),\n",
              " ('a', 21124),\n",
              " ('that', 12512),\n",
              " ('he', 12401),\n",
              " ('was', 11410),\n",
              " ('it', 10681)]"
            ]
          },
          "metadata": {
            "tags": []
          },
          "execution_count": 5
        }
      ]
    },
    {
      "cell_type": "code",
      "metadata": {
        "id": "WCpHJ0cdWCmI"
      },
      "source": [
        "def unit_tests():\n",
        "    assert correction('speling') == 'spelling'              # insert\n",
        "    assert correction('korrectud') == 'corrected'           # replace 2\n",
        "    assert correction('bycycle') == 'bicycle'               # replace\n",
        "    assert correction('inconvient') == 'inconvenient'       # insert 2\n",
        "    assert correction('arrainged') == 'arranged'            # delete\n",
        "    assert correction('peotry') =='poetry'                  # transpose\n",
        "    assert correction('peotryy') =='poetry'                 # transpose + delete\n",
        "    assert correction('word') == 'word'                     # known\n",
        "    assert correction('quintessential') == 'quintessential' # unknown\n",
        "    assert words('This is a TEST.') == ['this', 'is', 'a', 'test']\n",
        "    assert Counter(words('This is a test. 123; A TEST this is.')) == (\n",
        "           Counter({'123': 1, 'a': 2, 'is': 2, 'test': 2, 'this': 2}))\n",
        "    assert len(WORDS) == 32198\n",
        "    assert sum(WORDS.values()) == 1115585\n",
        "    assert WORDS.most_common(10) == [\n",
        "      ('the', 79809),\n",
        "      ('of', 40024),\n",
        "      ('and', 38312),\n",
        "      ('to', 28765),\n",
        "      ('in', 22023),\n",
        "      ('a', 21124),\n",
        "      ('that', 12512),\n",
        "      ('he', 12401),\n",
        "      ('was', 11410),\n",
        "      ('it', 10681)]\n",
        "    assert WORDS['the'] == 79809\n",
        "    assert P('quintessential') == 0\n",
        "    assert 0.07 < P('the') < 0.08\n",
        "    return 'unit_tests pass'\n",
        "\n"
      ],
      "execution_count": null,
      "outputs": []
    },
    {
      "cell_type": "code",
      "metadata": {
        "id": "OiiRSBM6XHZL"
      },
      "source": [
        "def spelltest(tests, verbose=False):\n",
        "    \"Run correction(wrong) on all (right, wrong) pairs; report results.\"\n",
        "    import time\n",
        "    start = time.clock()\n",
        "    good, unknown = 0, 0\n",
        "    n = len(tests)\n",
        "    for right, wrong in tests:\n",
        "        w = correction(wrong)\n",
        "        good += (w == right)\n",
        "        if w != right:\n",
        "            unknown += (right not in WORDS)\n",
        "            if verbose:\n",
        "                print('correction({}) => {} ({}); expected {} ({})'\n",
        "                      .format(wrong, w, WORDS[w], right, WORDS[right]))\n",
        "    dt = time.clock() - start\n",
        "    print('{:.0%} of {} correct ({:.0%} unknown) at {:.0f} words per second '\n",
        "          .format(good / n, n, unknown / n, n / dt))\n",
        "    \n"
      ],
      "execution_count": null,
      "outputs": []
    },
    {
      "cell_type": "code",
      "metadata": {
        "id": "XGo0ggMzXSvA"
      },
      "source": [
        "def Testset(lines):\n",
        "    \"Parse 'right: wrong1 wrong2' lines into [('right', 'wrong1'), ('right', 'wrong2')] pairs.\"\n",
        "    return [(right, wrong)\n",
        "            for (right, wrongs) in (line.split(':') for line in lines)\n",
        "            for wrong in wrongs.split()]\n"
      ],
      "execution_count": null,
      "outputs": []
    },
    {
      "cell_type": "code",
      "metadata": {
        "id": "nzqS-E94XRAZ",
        "colab": {
          "base_uri": "https://localhost:8080/",
          "height": 67
        },
        "outputId": "28a1601e-2c83-4294-9d18-61b024c075ef"
      },
      "source": [
        "print(unit_tests())\n",
        "spelltest(Testset(open('/content/spell-testset1.txt'))) \n",
        "spelltest(Testset(open('/content/spell-testset2.txt'))) "
      ],
      "execution_count": null,
      "outputs": [
        {
          "output_type": "stream",
          "text": [
            "unit_tests pass\n",
            "75% of 270 correct (6% unknown) at 36 words per second \n",
            "68% of 400 correct (11% unknown) at 32 words per second \n"
          ],
          "name": "stdout"
        }
      ]
    },
    {
      "cell_type": "code",
      "metadata": {
        "id": "YpwV7DLebeoX"
      },
      "source": [
        "def phrase_correction(phrase):\n",
        "  str = \"\" \n",
        "  list= phrase.split()\n",
        "  for i in range(len(list)) :\n",
        "    list[i]=correction(list[i])\n",
        "    \n",
        "  for ele in list:  \n",
        "    str += ele + ' '   \n",
        "    \n",
        "  return str"
      ],
      "execution_count": null,
      "outputs": []
    },
    {
      "cell_type": "code",
      "metadata": {
        "id": "2by9u4d9crym",
        "colab": {
          "base_uri": "https://localhost:8080/",
          "height": 35
        },
        "outputId": "4042c862-3577-4a5b-ac88-f210cf647031"
      },
      "source": [
        "phrase_correction(' why studi machin learnin')"
      ],
      "execution_count": null,
      "outputs": [
        {
          "output_type": "execute_result",
          "data": {
            "application/vnd.google.colaboratory.intrinsic+json": {
              "type": "string"
            },
            "text/plain": [
              "'why study machine learning '"
            ]
          },
          "metadata": {
            "tags": []
          },
          "execution_count": 11
        }
      ]
    },
    {
      "cell_type": "code",
      "metadata": {
        "id": "QMCr5i6UIcYF",
        "colab": {
          "base_uri": "https://localhost:8080/",
          "height": 35
        },
        "outputId": "1cd55f8d-7de5-4c9f-8826-9c64b4875a4a"
      },
      "source": [
        "phrase_correction('crete your firt web application')"
      ],
      "execution_count": null,
      "outputs": [
        {
          "output_type": "execute_result",
          "data": {
            "application/vnd.google.colaboratory.intrinsic+json": {
              "type": "string"
            },
            "text/plain": [
              "'create your first web application '"
            ]
          },
          "metadata": {
            "tags": []
          },
          "execution_count": 12
        }
      ]
    },
    {
      "cell_type": "code",
      "metadata": {
        "id": "SVc7UsCGIu5G",
        "colab": {
          "base_uri": "https://localhost:8080/",
          "height": 35
        },
        "outputId": "5a332c74-b301-4290-a213-dceedb8ae92d"
      },
      "source": [
        "phrase_correction(' chooose the rigt hashtag for you')"
      ],
      "execution_count": null,
      "outputs": [
        {
          "output_type": "execute_result",
          "data": {
            "application/vnd.google.colaboratory.intrinsic+json": {
              "type": "string"
            },
            "text/plain": [
              "'choose the right hashtag for you '"
            ]
          },
          "metadata": {
            "tags": []
          },
          "execution_count": 13
        }
      ]
    }
  ]
}